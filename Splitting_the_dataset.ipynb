{
 "cells": [
  {
   "cell_type": "markdown",
   "metadata": {},
   "source": [
    "# Spliting the dataset into train and test (images + xml files)"
   ]
  },
  {
   "cell_type": "code",
   "execution_count": 14,
   "metadata": {},
   "outputs": [
    {
     "name": "stdout",
     "output_type": "stream",
     "text": [
      "Total images:  372.0\n",
      "Images in train dir: 296.0\n",
      "Images in test dir: 74.0\n"
     ]
    }
   ],
   "source": [
    "import os\n",
    "from random import choice\n",
    "import shutil\n",
    "\n",
    "#arrays to store file names\n",
    "imgs =[]\n",
    "xmls =[]\n",
    "\n",
    "#setup dir names\n",
    "trainPath = 'C:/Users/Jarvis/Desktop/Dataset/18. Rotunda/train'\n",
    "testPath = 'C:/Users/Jarvis/Desktop/Dataset/18. Rotunda/test'\n",
    "crsPath = 'C:/Users/Jarvis/Desktop/Dataset/18. Rotunda/' #dir where images and annotations stored\n",
    "\n",
    "#setup ratio\n",
    "train_ratio = 0.8\n",
    "test_ratio = 0.2\n",
    "\n",
    "#total count of imgs\n",
    "totalImgCount = len(os.listdir(crsPath))/2\n",
    "\n",
    "#soring files to corresponding arrays\n",
    "for (dirname, dirs, files) in os.walk(crsPath):\n",
    "    for filename in files:\n",
    "        if filename.endswith('.xml'):\n",
    "            xmls.append(filename)\n",
    "        else:\n",
    "            imgs.append(filename)\n",
    "\n",
    "\n",
    "#counting range for cycles\n",
    "countForTrain = int(len(imgs)*train_ratio)\n",
    "countForTest = int(len(imgs)*test_ratio)\n",
    "\n",
    "#cycle for train dir\n",
    "for x in range(countForTrain):\n",
    "\n",
    "    fileJpg = choice(imgs) # get name of random image from origin dir\n",
    "    fileXml = fileJpg[:-4] +'.xml' # get name of corresponding annotation file\n",
    "\n",
    "    #move both files into train dir\n",
    "    shutil.move(os.path.join(crsPath, fileJpg), os.path.join(trainPath, fileJpg))\n",
    "    shutil.move(os.path.join(crsPath, fileXml), os.path.join(trainPath, fileXml))\n",
    "\n",
    "    #remove files from arrays\n",
    "    imgs.remove(fileJpg)\n",
    "    xmls.remove(fileXml)\n",
    "\n",
    "\n",
    "\n",
    "#cycle for test dir   \n",
    "for x in range(countForTest):\n",
    "\n",
    "    fileJpg = choice(imgs) # get name of random image from origin dir\n",
    "    fileXml = fileJpg[:-4] +'.xml' # get name of corresponding annotation file\n",
    "\n",
    "    #move both files into train dir\n",
    "    shutil.move(os.path.join(crsPath, fileJpg), os.path.join(testPath, fileJpg))\n",
    "    shutil.move(os.path.join(crsPath, fileXml), os.path.join(testPath, fileXml))\n",
    "\n",
    "    #remove files from arrays\n",
    "    imgs.remove(fileJpg)\n",
    "    xmls.remove(fileXml)\n",
    "\n",
    "#summary information after splitting\n",
    "print('Total images: ', totalImgCount)\n",
    "print('Images in train dir:', len(os.listdir(trainPath))/2)\n",
    "print('Images in test dir:', len(os.listdir(testPath))/2)"
   ]
  }
 ],
 "metadata": {
  "kernelspec": {
   "display_name": "Python 3",
   "language": "python",
   "name": "python3"
  },
  "language_info": {
   "codemirror_mode": {
    "name": "ipython",
    "version": 3
   },
   "file_extension": ".py",
   "mimetype": "text/x-python",
   "name": "python",
   "nbconvert_exporter": "python",
   "pygments_lexer": "ipython3",
   "version": "3.8.5"
  }
 },
 "nbformat": 4,
 "nbformat_minor": 4
}
