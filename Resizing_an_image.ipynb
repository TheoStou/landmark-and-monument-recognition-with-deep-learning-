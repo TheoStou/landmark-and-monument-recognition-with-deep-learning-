{
 "cells": [
  {
   "cell_type": "markdown",
   "metadata": {},
   "source": [
    "# Resizing an Image (keeping its aspect ratio)"
   ]
  },
  {
   "cell_type": "code",
   "execution_count": null,
   "metadata": {},
   "outputs": [],
   "source": [
    "from PIL import Image\n",
    "import os, sys\n",
    "\n",
    "path = \"C:/data/images/\"\n",
    "dirs = os.listdir(path)\n",
    "final_size = 300;\n",
    "\n",
    "def resize_an_image_keeping_aspect_ratio():\n",
    "    \n",
    "    for item in dirs:\n",
    "         if item == '.DS_Store':\n",
    "             continue\n",
    "         if os.path.isfile(path+item):\n",
    "             im = Image.open(path+item)\n",
    "             f, e = os.path.splitext(path+item)\n",
    "             size = im.size\n",
    "             ratio = float(final_size) / max(size)\n",
    "             new_image_size = tuple([int(x*ratio) for x in size])\n",
    "             im = im.resize(new_image_size, Image.ANTIALIAS)\n",
    "             new_im = Image.new(\"RGB\", (final_size, final_size))\n",
    "             new_im.paste(im, ((final_size-new_image_size[0])//2, (final_size-new_image_size[1])//2))\n",
    "             new_im.save(f + '.jpg', 'JPEG', quality=90)"
   ]
  },
  {
   "cell_type": "code",
   "execution_count": null,
   "metadata": {},
   "outputs": [],
   "source": [
    "resize_aspect_fit()"
   ]
  }
 ],
 "metadata": {
  "kernelspec": {
   "display_name": "Python 3",
   "language": "python",
   "name": "python3"
  },
  "language_info": {
   "codemirror_mode": {
    "name": "ipython",
    "version": 3
   },
   "file_extension": ".py",
   "mimetype": "text/x-python",
   "name": "python",
   "nbconvert_exporter": "python",
   "pygments_lexer": "ipython3",
   "version": "3.8.5"
  }
 },
 "nbformat": 4,
 "nbformat_minor": 4
}
